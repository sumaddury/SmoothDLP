{
 "cells": [
  {
   "cell_type": "code",
   "execution_count": 10,
   "id": "3f81fb63",
   "metadata": {},
   "outputs": [],
   "source": [
    "from smooth import sieve_to, is_prime, factorize\n",
    "from bisect import bisect_left\n",
    "import time"
   ]
  },
  {
   "cell_type": "code",
   "execution_count": 13,
   "id": "877af8db",
   "metadata": {},
   "outputs": [
    {
     "data": {
      "text/plain": [
       "0.0298159122467041"
      ]
     },
     "execution_count": 13,
     "metadata": {},
     "output_type": "execute_result"
    }
   ],
   "source": [
    "t1 = time.time()\n",
    "primes = sieve_to(1_000_000)\n",
    "t2 = time.time()\n",
    "t2 - t1"
   ]
  },
  {
   "cell_type": "code",
   "execution_count": null,
   "id": "8e6df448",
   "metadata": {},
   "outputs": [],
   "source": [
    "def is_smooth(x, y):\n",
    "    if x <= y:\n",
    "        return True\n",
    "    if is_prime(x):\n",
    "        return False\n",
    "    idx = bisect_left(primes, y)\n",
    "    for p in primes[:idx+1]:\n",
    "        if x <= y:\n",
    "            return True\n",
    "        if is_prime(x):\n",
    "            return False\n",
    "        while x % p == 0:\n",
    "            x //= p\n",
    "    return x == 1"
   ]
  },
  {
   "cell_type": "code",
   "execution_count": null,
   "id": "3ecbd2e1",
   "metadata": {},
   "outputs": [],
   "source": []
  }
 ],
 "metadata": {
  "kernelspec": {
   "display_name": ".venv",
   "language": "python",
   "name": "python3"
  },
  "language_info": {
   "codemirror_mode": {
    "name": "ipython",
    "version": 3
   },
   "file_extension": ".py",
   "mimetype": "text/x-python",
   "name": "python",
   "nbconvert_exporter": "python",
   "pygments_lexer": "ipython3",
   "version": "3.13.2"
  }
 },
 "nbformat": 4,
 "nbformat_minor": 5
}
