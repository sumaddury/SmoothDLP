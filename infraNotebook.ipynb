{
 "cells": [
  {
   "cell_type": "code",
   "execution_count": 69,
   "id": "136deec1",
   "metadata": {},
   "outputs": [],
   "source": [
    "from smooth import is_smooth, sieve_to, psi_approx, log_dickman, factorize, is_prime\n",
    "from random import randint, seed, random, Random\n",
    "from bisect import bisect_left, bisect_right\n",
    "from collections import namedtuple\n",
    "import math\n",
    "import time\n",
    "import os\n",
    "import gmpy2"
   ]
  },
  {
   "cell_type": "code",
   "execution_count": 42,
   "id": "db5cdf3d",
   "metadata": {},
   "outputs": [],
   "source": [
    "PRIMES = tuple(sieve_to(1 << 22))"
   ]
  },
  {
   "cell_type": "code",
   "execution_count": 101,
   "id": "95e5fc7a",
   "metadata": {},
   "outputs": [
    {
     "data": {
      "text/plain": [
       "9619"
      ]
     },
     "execution_count": 101,
     "metadata": {},
     "output_type": "execute_result"
    }
   ],
   "source": [
    "def estim_y(p):\n",
    "    L = math.log(p)\n",
    "    return int(math.exp(math.sqrt(0.5 * L * math.log(L))))\n",
    "\n",
    "P = 2**64 - 59\n",
    "y = estim_y(P)\n",
    "y"
   ]
  },
  {
   "cell_type": "code",
   "execution_count": 102,
   "id": "cb1352b9",
   "metadata": {},
   "outputs": [
    {
     "data": {
      "text/plain": [
       "1.088548689199712"
      ]
     },
     "execution_count": 102,
     "metadata": {},
     "output_type": "execute_result"
    }
   ],
   "source": [
    "\n",
    "u = math.log(P) / math.log(2 ** 59)\n",
    "1 / math.exp(log_dickman(u))"
   ]
  },
  {
   "cell_type": "code",
   "execution_count": 58,
   "id": "27215315",
   "metadata": {},
   "outputs": [
    {
     "data": {
      "text/plain": [
       "1187"
      ]
     },
     "execution_count": 58,
     "metadata": {},
     "output_type": "execute_result"
    }
   ],
   "source": [
    "k = len(sieve_to(y))\n",
    "k"
   ]
  },
  {
   "cell_type": "code",
   "execution_count": 48,
   "id": "cf1cb9f9",
   "metadata": {},
   "outputs": [
    {
     "data": {
      "text/plain": [
       "6.742105398"
      ]
     },
     "execution_count": 48,
     "metadata": {},
     "output_type": "execute_result"
    }
   ],
   "source": [
    "3.15553e-06 * k * 1800"
   ]
  },
  {
   "cell_type": "code",
   "execution_count": 63,
   "id": "fc85b820",
   "metadata": {},
   "outputs": [
    {
     "data": {
      "text/plain": [
       "16355709244876859514"
      ]
     },
     "execution_count": 63,
     "metadata": {},
     "output_type": "execute_result"
    }
   ],
   "source": [
    "def find_gen(p):\n",
    "    primes = [q for (q, _) in factorize(p-1)]\n",
    "\n",
    "    while True:\n",
    "        g = randint(2, p - 1)\n",
    "        valid = True\n",
    "        for q in primes:\n",
    "            if pow(g, (p - 1) // q, p) == 1:\n",
    "                valid = False\n",
    "                break\n",
    "        if valid:\n",
    "            return g\n",
    "\n",
    "g = find_gen(P)\n",
    "g"
   ]
  },
  {
   "cell_type": "code",
   "execution_count": 8,
   "id": "fbf1bb55",
   "metadata": {},
   "outputs": [],
   "source": [
    "def build_product_tree(values, k):\n",
    "    levels = []\n",
    "    level = [gmpy2.mpz(p) for p in values[:k]]\n",
    "    levels.append(level)\n",
    "    while len(level) > 1:\n",
    "        next_level = []\n",
    "        for i in range(0, len(level), 2):\n",
    "            if i + 1 < len(level):\n",
    "                next_level.append(level[i] * level[i+1])\n",
    "            else:\n",
    "                next_level.append(level[i])\n",
    "        levels.append(next_level)\n",
    "        level = next_level\n",
    "    return levels\n",
    "\n",
    "def batch_remainder(p_levels, X):\n",
    "    Z = p_levels[-1][0]\n",
    "\n",
    "    x_levels = build_product_tree(X, len(X))\n",
    "    h = len(x_levels) - 1\n",
    "\n",
    "    root_prod = x_levels[h][0]\n",
    "    rems = [gmpy2.t_mod(Z, root_prod)]\n",
    "\n",
    "    for level in range(h, 0, -1):\n",
    "        parent_rems = rems\n",
    "        node_products = x_levels[level - 1]\n",
    "        size = len(node_products)\n",
    "        rems = [None] * size\n",
    "        for idx in range(size):\n",
    "            rems[idx] = gmpy2.t_mod(parent_rems[idx // 2], node_products[idx])\n",
    "    return rems\n",
    "\n",
    "def batch_smoothness_test(p_levels, X):\n",
    "    rems = batch_remainder(p_levels, X)\n",
    "    \n",
    "    max_x = max(X)\n",
    "    M = 1 << (max_x.bit_length())\n",
    "    \n",
    "    smooth_cands = set()\n",
    "    for x_mpz, r in zip(X, rems):\n",
    "        y = gmpy2.powmod(r, M, x_mpz)\n",
    "        if gmpy2.gcd(x_mpz, y) == x_mpz:\n",
    "            smooth_cands.add(x_mpz)\n",
    "    \n",
    "    return smooth_cands"
   ]
  },
  {
   "cell_type": "code",
   "execution_count": 11,
   "id": "1050263e",
   "metadata": {},
   "outputs": [],
   "source": [
    "levels = build_product_tree(PRIMES, k)"
   ]
  },
  {
   "cell_type": "code",
   "execution_count": 9,
   "id": "fffd26d4",
   "metadata": {},
   "outputs": [
    {
     "name": "stdout",
     "output_type": "stream",
     "text": [
      "0 0.0016660690307617188\n",
      "1 5.1975250244140625e-05\n",
      "2 5.1975250244140625e-05\n",
      "3 6.890296936035156e-05\n",
      "4 0.00011372566223144531\n",
      "5 0.000209808349609375\n",
      "6 0.00034499168395996094\n",
      "7 0.0009310245513916016\n",
      "8 0.0016162395477294922\n",
      "9 0.0032279491424560547\n",
      "10 0.004707813262939453\n",
      "11 0.0077669620513916016\n",
      "12 0.013511180877685547\n",
      "13 0.022312164306640625\n",
      "14 0.04027700424194336\n",
      "15 0.07741594314575195\n",
      "16 0.16199302673339844\n",
      "17 0.3375709056854248\n"
     ]
    }
   ],
   "source": [
    "for i in range(18):\n",
    "    X = [gmpy2.mpz(randint(0, P-2)) for _ in range(int(2 ** i))]\n",
    "    t1 = time.time()\n",
    "    x = batch_smoothness_test(levels, X)\n",
    "    print(i, (time.time() - t1))"
   ]
  },
  {
   "cell_type": "code",
   "execution_count": 16,
   "id": "eb66fcd6",
   "metadata": {},
   "outputs": [
    {
     "name": "stdout",
     "output_type": "stream",
     "text": [
      "0.8504021167755127\n"
     ]
    }
   ],
   "source": [
    "X = [gmpy2.mpz(randint(0, P-2)) for _ in range(131072)]\n",
    "t1 = time.time()\n",
    "x = batch_smoothness_test(levels, X)\n",
    "print(time.time() - t1)"
   ]
  },
  {
   "cell_type": "code",
   "execution_count": 98,
   "id": "ff9e45a2",
   "metadata": {},
   "outputs": [
    {
     "data": {
      "text/plain": [
       "118"
      ]
     },
     "execution_count": 98,
     "metadata": {},
     "output_type": "execute_result"
    }
   ],
   "source": [
    "(332306998946228905391729763996928922).bit_length()"
   ]
  },
  {
   "cell_type": "code",
   "execution_count": 46,
   "id": "7323230e",
   "metadata": {},
   "outputs": [
    {
     "data": {
      "text/plain": [
       "127"
      ]
     },
     "execution_count": 46,
     "metadata": {},
     "output_type": "execute_result"
    }
   ],
   "source": [
    "arr = list(x)\n",
    "arr[0].bit_length()"
   ]
  },
  {
   "cell_type": "code",
   "execution_count": 48,
   "id": "b4dbffde",
   "metadata": {},
   "outputs": [
    {
     "name": "stdout",
     "output_type": "stream",
     "text": [
      "[(686143, 1), (389083, 1), (213391, 1), (67607, 1), (19081, 1), (13997, 1), (2857, 1), (857, 1), (7, 1), (2, 3)]\n",
      "0.0037851333618164062\n"
     ]
    }
   ],
   "source": [
    "t1 = time.time()\n",
    "print(extract_prime_power_factors(levels, arr[0]))\n",
    "print(time.time() - t1)"
   ]
  },
  {
   "cell_type": "code",
   "execution_count": 21,
   "id": "a6b49626",
   "metadata": {},
   "outputs": [],
   "source": [
    "def extract_prime_divisors(p_levels, d):\n",
    "    primes = []\n",
    "    h = len(p_levels) - 1\n",
    "    stack = [(h, 0)]\n",
    "    \n",
    "    while stack:\n",
    "        level, idx = stack.pop()\n",
    "        P = p_levels[level][idx]\n",
    "        g = gmpy2.gcd(d, P)\n",
    "        if g == 1:\n",
    "            continue\n",
    "        if level == 0:\n",
    "            primes.append(P)\n",
    "        else:\n",
    "            left_idx = 2 * idx\n",
    "            right_idx = left_idx + 1\n",
    "            stack.append((level - 1, left_idx))\n",
    "            if right_idx < len(p_levels[level - 1]):\n",
    "                stack.append((level - 1, right_idx))\n",
    "    return primes\n",
    "\n",
    "def extract_prime_power_factors(p_levels, d):\n",
    "    factorization = []\n",
    "    primes = extract_prime_divisors(p_levels, d)\n",
    "    for p in primes:\n",
    "        exp = 0\n",
    "        while d % p == 0:\n",
    "            d //= p\n",
    "            exp += 1\n",
    "        factorization.append((int(p), exp))\n",
    "    return factorization"
   ]
  }
 ],
 "metadata": {
  "kernelspec": {
   "display_name": ".venv",
   "language": "python",
   "name": "python3"
  },
  "language_info": {
   "codemirror_mode": {
    "name": "ipython",
    "version": 3
   },
   "file_extension": ".py",
   "mimetype": "text/x-python",
   "name": "python",
   "nbconvert_exporter": "python",
   "pygments_lexer": "ipython3",
   "version": "3.13.2"
  }
 },
 "nbformat": 4,
 "nbformat_minor": 5
}
