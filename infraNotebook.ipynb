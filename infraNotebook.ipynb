{
 "cells": [
  {
   "cell_type": "code",
   "execution_count": null,
   "id": "136deec1",
   "metadata": {},
   "outputs": [],
   "source": [
    "from smooth import is_smooth\n",
    "from random import randint, seed, random, Random"
   ]
  },
  {
   "cell_type": "code",
   "execution_count": null,
   "id": "8dde86a1",
   "metadata": {},
   "outputs": [],
   "source": [
    "_rng = Random()\n",
    "\n",
    "def rand_smooth(y, B):\n",
    "    x = 1\n",
    "    while not is_smooth(y, x):\n",
    "        x = _rng.randrange(1, B + 1)\n",
    "    return x"
   ]
  }
 ],
 "metadata": {
  "kernelspec": {
   "display_name": ".venv",
   "language": "python",
   "name": "python3"
  },
  "language_info": {
   "codemirror_mode": {
    "name": "ipython",
    "version": 3
   },
   "file_extension": ".py",
   "mimetype": "text/x-python",
   "name": "python",
   "nbconvert_exporter": "python",
   "pygments_lexer": "ipython3",
   "version": "3.13.2"
  }
 },
 "nbformat": 4,
 "nbformat_minor": 5
}
