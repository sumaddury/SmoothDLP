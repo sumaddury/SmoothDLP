{
 "cells": [
  {
   "cell_type": "code",
   "execution_count": 3,
   "id": "136deec1",
   "metadata": {},
   "outputs": [],
   "source": [
    "from smooth import is_smooth\n",
    "from random import randint, seed, random, Random"
   ]
  },
  {
   "cell_type": "code",
   "execution_count": 2,
   "id": "8dde86a1",
   "metadata": {},
   "outputs": [],
   "source": [
    "_rng = Random()\n",
    "\n",
    "def rand_smooth(y, B):\n",
    "    x = _rng.randrange(1, B + 1)\n",
    "    while not is_smooth(x, y):\n",
    "        x = _rng.randrange(1, B + 1)\n",
    "    return x"
   ]
  },
  {
   "cell_type": "code",
   "execution_count": 4,
   "id": "4d6d019f",
   "metadata": {},
   "outputs": [
    {
     "data": {
      "text/plain": [
       "2404785386858"
      ]
     },
     "execution_count": 4,
     "metadata": {},
     "output_type": "execute_result"
    }
   ],
   "source": [
    "rand_smooth(2139321, 4219312009312)"
   ]
  },
  {
   "cell_type": "code",
   "execution_count": 6,
   "id": "e3a64a5d",
   "metadata": {},
   "outputs": [],
   "source": [
    "def legendre(a, p):\n",
    "    a_mod = a % p\n",
    "    if a_mod in {0,1}:\n",
    "        return a_mod\n",
    "    if a_mod == p - 1:\n",
    "        return 1 if p % 4 == 1 else -1\n",
    "    if a_mod == 2:\n",
    "        mod_temp = p % 8\n",
    "        return 1 if mod_temp in {1, 7} else -1\n",
    "    exp = (p - 1) // 2\n",
    "    return pow(a, exp, p)"
   ]
  },
  {
   "cell_type": "code",
   "execution_count": null,
   "id": "b5164d94",
   "metadata": {},
   "outputs": [],
   "source": []
  }
 ],
 "metadata": {
  "kernelspec": {
   "display_name": ".venv",
   "language": "python",
   "name": "python3"
  },
  "language_info": {
   "codemirror_mode": {
    "name": "ipython",
    "version": 3
   },
   "file_extension": ".py",
   "mimetype": "text/x-python",
   "name": "python",
   "nbconvert_exporter": "python",
   "pygments_lexer": "ipython3",
   "version": "3.13.2"
  }
 },
 "nbformat": 4,
 "nbformat_minor": 5
}
